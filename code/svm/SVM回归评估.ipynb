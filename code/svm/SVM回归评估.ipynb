{
 "cells": [
  {
   "cell_type": "code",
   "execution_count": 9,
   "metadata": {},
   "outputs": [],
   "source": [
    "from  sklearn.svm import SVR  # 回归函数 似乎被遗忘的函数 实际效果还不错\n",
    "from  sklearn.svm import LinearSVC \n",
    "import sklearn.datasets as datasets\n",
    "%matplotlib inline\n",
    "import  matplotlib.pyplot as plt\n",
    "import numpy as np"
   ]
  },
  {
   "cell_type": "code",
   "execution_count": 2,
   "metadata": {},
   "outputs": [
    {
     "data": {
      "text/plain": [
       "array([[  2.75482656],\n",
       "       [ 14.7214334 ],\n",
       "       [ 13.20861889],\n",
       "       [  1.2148707 ],\n",
       "       [  5.11252428],\n",
       "       [ 10.91156755],\n",
       "       [ 13.27434377],\n",
       "       [ 12.31080556],\n",
       "       [  8.27602485],\n",
       "       [  9.61761179],\n",
       "       [ 13.5379782 ],\n",
       "       [ 12.21519347],\n",
       "       [  7.15268828],\n",
       "       [  3.09561989],\n",
       "       [  8.36858551],\n",
       "       [ 13.56428285],\n",
       "       [  9.69114908],\n",
       "       [ 13.78292874],\n",
       "       [  4.83173523],\n",
       "       [  1.69175554],\n",
       "       [ 10.55157635],\n",
       "       [  7.3782213 ],\n",
       "       [  6.3312277 ],\n",
       "       [  2.24613771],\n",
       "       [  3.0064475 ],\n",
       "       [  6.40018   ],\n",
       "       [ 11.51231023],\n",
       "       [  0.5758487 ],\n",
       "       [  2.05299606],\n",
       "       [  0.49837769],\n",
       "       [ 10.55236122],\n",
       "       [  0.26840227],\n",
       "       [  9.43173882],\n",
       "       [  4.05902212],\n",
       "       [ 14.51344516],\n",
       "       [ 13.55505303],\n",
       "       [  0.0270144 ],\n",
       "       [  1.10327883],\n",
       "       [  6.64676397],\n",
       "       [  8.37838964],\n",
       "       [  4.19840305],\n",
       "       [  4.02954117],\n",
       "       [ 14.61769137],\n",
       "       [ 14.62444892],\n",
       "       [ 13.80661942],\n",
       "       [  9.9217336 ],\n",
       "       [  8.63640252],\n",
       "       [ 14.55070905],\n",
       "       [  0.87732318],\n",
       "       [ 12.18445714],\n",
       "       [ 12.18077378],\n",
       "       [  3.76682148],\n",
       "       [  3.22505137],\n",
       "       [ 10.37503265],\n",
       "       [  5.57820261],\n",
       "       [ 14.31987193],\n",
       "       [  3.95199618],\n",
       "       [  4.71189869],\n",
       "       [ 13.90029217],\n",
       "       [  6.00890194],\n",
       "       [ 13.61768499],\n",
       "       [  5.05402469],\n",
       "       [ 13.6267765 ],\n",
       "       [  1.91689265],\n",
       "       [  0.97406864],\n",
       "       [  0.90482748],\n",
       "       [  4.89809549],\n",
       "       [  9.01332426],\n",
       "       [ 12.23438465],\n",
       "       [  6.89192132],\n",
       "       [  0.79448987],\n",
       "       [ 14.77328916],\n",
       "       [ 13.61378542],\n",
       "       [  7.58224993],\n",
       "       [ 13.51626318],\n",
       "       [  9.95391586],\n",
       "       [  3.9573893 ],\n",
       "       [  6.26536685],\n",
       "       [  7.3931839 ],\n",
       "       [ 14.31571971],\n",
       "       [  7.68618528],\n",
       "       [  5.035022  ],\n",
       "       [ 10.25292373],\n",
       "       [ 11.09767559],\n",
       "       [  5.66593311],\n",
       "       [  6.44175631],\n",
       "       [  5.21074034],\n",
       "       [  5.61174899],\n",
       "       [  6.95997861],\n",
       "       [  1.00853527],\n",
       "       [  5.86002857],\n",
       "       [  5.27533326],\n",
       "       [  2.09507613],\n",
       "       [  0.87297426],\n",
       "       [  5.98850349],\n",
       "       [  4.87388909],\n",
       "       [  4.50797167],\n",
       "       [  6.64346546],\n",
       "       [  9.93194813],\n",
       "       [ 14.05378952],\n",
       "       [  0.72162482],\n",
       "       [ 11.62547807],\n",
       "       [ 10.18258686],\n",
       "       [ 12.74089693],\n",
       "       [ 11.01723153],\n",
       "       [  5.05220051],\n",
       "       [  9.84741786],\n",
       "       [ 10.39322211],\n",
       "       [ 13.02956101],\n",
       "       [ 10.22924514],\n",
       "       [ 14.91755022],\n",
       "       [  9.35574552],\n",
       "       [  7.45868653],\n",
       "       [ 13.56644458],\n",
       "       [ 11.82262901],\n",
       "       [  1.57286575],\n",
       "       [  5.79534785],\n",
       "       [  5.53543446],\n",
       "       [ 14.47858123],\n",
       "       [  4.23183299]])"
      ]
     },
     "execution_count": 2,
     "metadata": {},
     "output_type": "execute_result"
    }
   ],
   "source": [
    "x=np.random.rand(120,1)*15\n",
    "x"
   ]
  },
  {
   "cell_type": "code",
   "execution_count": 3,
   "metadata": {},
   "outputs": [
    {
     "data": {
      "text/plain": [
       "array([[  0.0270144 ],\n",
       "       [  0.26840227],\n",
       "       [  0.49837769],\n",
       "       [  0.5758487 ],\n",
       "       [  0.72162482],\n",
       "       [  0.79448987],\n",
       "       [  0.87297426],\n",
       "       [  0.87732318],\n",
       "       [  0.90482748],\n",
       "       [  0.97406864],\n",
       "       [  1.00853527],\n",
       "       [  1.10327883],\n",
       "       [  1.2148707 ],\n",
       "       [  1.57286575],\n",
       "       [  1.69175554],\n",
       "       [  1.91689265],\n",
       "       [  2.05299606],\n",
       "       [  2.09507613],\n",
       "       [  2.24613771],\n",
       "       [  2.75482656],\n",
       "       [  3.0064475 ],\n",
       "       [  3.09561989],\n",
       "       [  3.22505137],\n",
       "       [  3.76682148],\n",
       "       [  3.95199618],\n",
       "       [  3.9573893 ],\n",
       "       [  4.02954117],\n",
       "       [  4.05902212],\n",
       "       [  4.19840305],\n",
       "       [  4.23183299],\n",
       "       [  4.50797167],\n",
       "       [  4.71189869],\n",
       "       [  4.83173523],\n",
       "       [  4.87388909],\n",
       "       [  4.89809549],\n",
       "       [  5.035022  ],\n",
       "       [  5.05220051],\n",
       "       [  5.05402469],\n",
       "       [  5.11252428],\n",
       "       [  5.21074034],\n",
       "       [  5.27533326],\n",
       "       [  5.53543446],\n",
       "       [  5.57820261],\n",
       "       [  5.61174899],\n",
       "       [  5.66593311],\n",
       "       [  5.79534785],\n",
       "       [  5.86002857],\n",
       "       [  5.98850349],\n",
       "       [  6.00890194],\n",
       "       [  6.26536685],\n",
       "       [  6.3312277 ],\n",
       "       [  6.40018   ],\n",
       "       [  6.44175631],\n",
       "       [  6.64346546],\n",
       "       [  6.64676397],\n",
       "       [  6.89192132],\n",
       "       [  6.95997861],\n",
       "       [  7.15268828],\n",
       "       [  7.3782213 ],\n",
       "       [  7.3931839 ],\n",
       "       [  7.45868653],\n",
       "       [  7.58224993],\n",
       "       [  7.68618528],\n",
       "       [  8.27602485],\n",
       "       [  8.36858551],\n",
       "       [  8.37838964],\n",
       "       [  8.63640252],\n",
       "       [  9.01332426],\n",
       "       [  9.35574552],\n",
       "       [  9.43173882],\n",
       "       [  9.61761179],\n",
       "       [  9.69114908],\n",
       "       [  9.84741786],\n",
       "       [  9.9217336 ],\n",
       "       [  9.93194813],\n",
       "       [  9.95391586],\n",
       "       [ 10.18258686],\n",
       "       [ 10.22924514],\n",
       "       [ 10.25292373],\n",
       "       [ 10.37503265],\n",
       "       [ 10.39322211],\n",
       "       [ 10.55157635],\n",
       "       [ 10.55236122],\n",
       "       [ 10.91156755],\n",
       "       [ 11.01723153],\n",
       "       [ 11.09767559],\n",
       "       [ 11.51231023],\n",
       "       [ 11.62547807],\n",
       "       [ 11.82262901],\n",
       "       [ 12.18077378],\n",
       "       [ 12.18445714],\n",
       "       [ 12.21519347],\n",
       "       [ 12.23438465],\n",
       "       [ 12.31080556],\n",
       "       [ 12.74089693],\n",
       "       [ 13.02956101],\n",
       "       [ 13.20861889],\n",
       "       [ 13.27434377],\n",
       "       [ 13.51626318],\n",
       "       [ 13.5379782 ],\n",
       "       [ 13.55505303],\n",
       "       [ 13.56428285],\n",
       "       [ 13.56644458],\n",
       "       [ 13.61378542],\n",
       "       [ 13.61768499],\n",
       "       [ 13.6267765 ],\n",
       "       [ 13.78292874],\n",
       "       [ 13.80661942],\n",
       "       [ 13.90029217],\n",
       "       [ 14.05378952],\n",
       "       [ 14.31571971],\n",
       "       [ 14.31987193],\n",
       "       [ 14.47858123],\n",
       "       [ 14.51344516],\n",
       "       [ 14.55070905],\n",
       "       [ 14.61769137],\n",
       "       [ 14.62444892],\n",
       "       [ 14.7214334 ],\n",
       "       [ 14.77328916],\n",
       "       [ 14.91755022]])"
      ]
     },
     "execution_count": 3,
     "metadata": {},
     "output_type": "execute_result"
    }
   ],
   "source": [
    "x_train=np.sort(x,axis=0)\n",
    "x_train"
   ]
  },
  {
   "cell_type": "code",
   "execution_count": 4,
   "metadata": {},
   "outputs": [],
   "source": [
    "y_train=np.sin(x_train)"
   ]
  },
  {
   "cell_type": "code",
   "execution_count": 5,
   "metadata": {},
   "outputs": [
    {
     "data": {
      "text/plain": [
       "[<matplotlib.lines.Line2D at 0xc289be66a0>]"
      ]
     },
     "execution_count": 5,
     "metadata": {},
     "output_type": "execute_result"
    },
    {
     "data": {
      "image/png": "[encoded data removed]",
      "text/plain": [
       "<matplotlib.figure.Figure at 0xc2fc743eb8>"
      ]
     },
     "metadata": {},
     "output_type": "display_data"
    }
   ],
   "source": [
    "plt.plot(x_train,y_train)"
   ]
  },
  {
   "cell_type": "code",
   "execution_count": 6,
   "metadata": {},
   "outputs": [
    {
     "data": {
      "text/plain": [
       "array([[-0.52022785],\n",
       "       [ 0.26519125],\n",
       "       [ 0.4780012 ],\n",
       "       [ 0.54454681],\n",
       "       [ 0.66060535],\n",
       "       [ 1.56169811],\n",
       "       [ 0.76624344],\n",
       "       [ 0.76903058],\n",
       "       [ 0.78631858],\n",
       "       [ 0.82717888],\n",
       "       [ 0.50001713],\n",
       "       [ 0.89268983],\n",
       "       [ 0.93732435],\n",
       "       [ 0.99999786],\n",
       "       [ 0.99269335],\n",
       "       [ 1.33696182],\n",
       "       [ 0.88597699],\n",
       "       [ 0.86568469],\n",
       "       [ 0.78049358],\n",
       "       [ 0.37719536],\n",
       "       [ 0.82558407],\n",
       "       [ 0.04595657],\n",
       "       [-0.08336186],\n",
       "       [-0.58528283],\n",
       "       [-0.72456535],\n",
       "       [-1.50319352],\n",
       "       [-0.77577888],\n",
       "       [-0.79404171],\n",
       "       [-0.87079174],\n",
       "       [-0.88673804],\n",
       "       [-1.94589039],\n",
       "       [-0.99999988],\n",
       "       [-0.99288669],\n",
       "       [-0.98698718],\n",
       "       [-0.98280605],\n",
       "       [ 1.32149607],\n",
       "       [-0.9428175 ],\n",
       "       [-0.94220792],\n",
       "       [-0.9210083 ],\n",
       "       [-0.87837177],\n",
       "       [ 1.26868865],\n",
       "       [-0.67999136],\n",
       "       [-0.64802065],\n",
       "       [-0.62211116],\n",
       "       [-0.57879659],\n",
       "       [-0.19219982],\n",
       "       [-0.41064079],\n",
       "       [-0.29043539],\n",
       "       [-0.27085716],\n",
       "       [-0.01781752],\n",
       "       [-1.04392116],\n",
       "       [ 0.11672798],\n",
       "       [ 0.1579073 ],\n",
       "       [ 0.35253641],\n",
       "       [ 0.35562123],\n",
       "       [ 0.23402908],\n",
       "       [ 0.62629636],\n",
       "       [ 0.76400834],\n",
       "       [ 0.88894474],\n",
       "       [ 0.89569806],\n",
       "       [ 1.227353  ],\n",
       "       [ 0.96330755],\n",
       "       [ 0.98595519],\n",
       "       [ 0.91225389],\n",
       "       [ 0.87048776],\n",
       "       [ 1.63599098],\n",
       "       [ 0.7092089 ],\n",
       "       [ 0.39994213],\n",
       "       [ 0.06897762],\n",
       "       [-0.00696081],\n",
       "       [ 0.91522958],\n",
       "       [-0.26323227],\n",
       "       [-0.4101695 ],\n",
       "       [-0.47675164],\n",
       "       [-0.48570558],\n",
       "       [ 0.0121807 ],\n",
       "       [-0.68733161],\n",
       "       [-0.72046124],\n",
       "       [-0.73667873],\n",
       "       [-0.81356363],\n",
       "       [-2.03340942],\n",
       "       [-0.90304156],\n",
       "       [-0.90337842],\n",
       "       [-0.99647351],\n",
       "       [-0.99976549],\n",
       "       [-0.04684782],\n",
       "       [-0.8694364 ],\n",
       "       [-0.80808419],\n",
       "       [-0.67704624],\n",
       "       [-0.37611221],\n",
       "       [-2.37988085],\n",
       "       [-0.34400335],\n",
       "       [-0.3259212 ],\n",
       "       [-0.25279215],\n",
       "       [ 0.17364166],\n",
       "       [ 0.34557137],\n",
       "       [ 0.59899726],\n",
       "       [ 0.65029536],\n",
       "       [ 0.81335301],\n",
       "       [ 0.82579341],\n",
       "       [ 1.15763411],\n",
       "       [ 0.84034113],\n",
       "       [ 0.84151095],\n",
       "       [ 0.86613401],\n",
       "       [ 0.86807647],\n",
       "       [ 1.45065873],\n",
       "       [ 0.93791101],\n",
       "       [ 0.94586478],\n",
       "       [ 0.9720761 ],\n",
       "       [ 0.99652612],\n",
       "       [ 1.63379167],\n",
       "       [ 0.98335582],\n",
       "       [ 0.94228208],\n",
       "       [ 0.93003869],\n",
       "       [ 0.91570316],\n",
       "       [ 2.15199269],\n",
       "       [ 0.88360877],\n",
       "       [ 0.83411692],\n",
       "       [ 0.80440552],\n",
       "       [ 0.71064393]])"
      ]
     },
     "execution_count": 6,
     "metadata": {},
     "output_type": "execute_result"
    }
   ],
   "source": [
    "y_train[::5] +=np.random.randn(24,1)\n",
    "y_train"
   ]
  },
  {
   "cell_type": "code",
   "execution_count": 7,
   "metadata": {},
   "outputs": [
    {
     "data": {
      "text/plain": [
       "[<matplotlib.lines.Line2D at 0xc28959f048>]"
      ]
     },
     "execution_count": 7,
     "metadata": {},
     "output_type": "execute_result"
    },
    {
     "data": {
      "image/png": "[encoded data removed]",
      "text/plain": [
       "<matplotlib.figure.Figure at 0xc289c52be0>"
      ]
     },
     "metadata": {},
     "output_type": "display_data"
    }
   ],
   "source": [
    "plt.plot(x_train,y_train)"
   ]
  },
  {
   "cell_type": "code",
   "execution_count": 8,
   "metadata": {},
   "outputs": [
    {
     "data": {
      "text/plain": [
       "(-3, 3)"
      ]
     },
     "execution_count": 8,
     "metadata": {},
     "output_type": "execute_result"
    },
    {
     "data": {
      "image/png": "[encoded data removed]",
      "text/plain": [
       "<matplotlib.figure.Figure at 0xc2895b5f28>"
      ]
     },
     "metadata": {},
     "output_type": "display_data"
    }
   ],
   "source": [
    "plt.scatter(x_train,y_train)\n",
    "plt.ylim(-3,3)"
   ]
  },
  {
   "cell_type": "code",
   "execution_count": 10,
   "metadata": {},
   "outputs": [],
   "source": [
    "svr_linear=SVR(kernel=\"linear\")\n",
    "svr_rbf=SVR(kernel=\"rbf\")\n",
    "svr_poly=SVR(kernel=\"poly\") #ä¸‰ä¸ªçº¿æ€§å›žå½’"
   ]
  },
  {
   "cell_type": "code",
   "execution_count": 11,
   "metadata": {},
   "outputs": [
    {
     "data": {
      "text/plain": [
       "array([[  0.00000000e+00],\n",
       "       [  1.00000000e-02],\n",
       "       [  2.00000000e-02],\n",
       "       ..., \n",
       "       [  1.49700000e+01],\n",
       "       [  1.49800000e+01],\n",
       "       [  1.49900000e+01]])"
      ]
     },
     "execution_count": 11,
     "metadata": {},
     "output_type": "execute_result"
    }
   ],
   "source": [
    "x_test=np.arange(0,15,0.01) [:,np.newaxis]\n",
    "x_test"
   ]
  },
  {
   "cell_type": "code",
   "execution_count": 13,
   "metadata": {},
   "outputs": [],
   "source": [
    "linear_y=svr_linear.fit(x_train,y_train.ravel()).predict(x_test)\n",
    "rbf_y=svr_rbf.fit(x_train,y_train.ravel()).predict(x_test)\n",
    "poly_y=svr_poly.fit(x_train,y_train.ravel()).predict(x_test) #é¢„æµ‹çš„æ•°æ�®"
   ]
  },
  {
   "cell_type": "code",
   "execution_count": 17,
   "metadata": {},
   "outputs": [
    {
     "data": {
      "text/plain": [
       "<matplotlib.legend.Legend at 0xc28acf6828>"
      ]
     },
     "execution_count": 17,
     "metadata": {},
     "output_type": "execute_result"
    },
    {
     "data": {
      "image/png": "[encoded data removed]",
      "text/plain": [
       "<matplotlib.figure.Figure at 0xc28ac98eb8>"
      ]
     },
     "metadata": {},
     "output_type": "display_data"
    }
   ],
   "source": [
    "plt.figure(figsize=(8,6))\n",
    "plt.scatter(x_train,y_train)\n",
    "plt.plot(x_test,linear_y,label=\"linear\")\n",
    "plt.plot(x_test,rbf_y,label=\"rbf\")\n",
    "plt.plot(x_test,poly_y,label=\"poly\")\n",
    "plt.legend()"
   ]
  },
  {
   "cell_type": "code",
   "execution_count": null,
   "metadata": {},
   "outputs": [],
   "source": []
  }
 ],
 "metadata": {
  "kernelspec": {
   "display_name": "Python 3",
   "language": "python",
   "name": "python3"
  },
  "language_info": {
   "codemirror_mode": {
    "name": "ipython",
    "version": 3
   },
   "file_extension": ".py",
   "mimetype": "text/x-python",
   "name": "python",
   "nbconvert_exporter": "python",
   "pygments_lexer": "ipython3",
   "version": "3.6.2"
  }
 },
 "nbformat": 4,
 "nbformat_minor": 2
}