{
 "cells": [
  {
   "cell_type": "code",
   "execution_count": 1,
   "metadata": {
    "collapsed": true
   },
   "outputs": [],
   "source": [
    "import numpy  as np\n",
    "from  sklearn.svm import  SVC #分类\n",
    "import matplotlib.pyplot as plt\n",
    "%matplotlib inline"
   ]
  },
  {
   "cell_type": "code",
   "execution_count": 2,
   "metadata": {},
   "outputs": [
    {
     "data": {
      "text/plain": [
       "array([[1, 2, 3, 4, 5, 6]])"
      ]
     },
     "execution_count": 2,
     "metadata": {},
     "output_type": "execute_result"
    }
   ],
   "source": [
    "a=[[1,2,3]]\n",
    "b=[[4,5,6]]\n",
    "np.c_[a,b] #数组的串联"
   ]
  },
  {
   "cell_type": "code",
   "execution_count": 3,
   "metadata": {},
   "outputs": [
    {
     "data": {
      "text/plain": [
       "array([[1, 2, 3],\n       [4, 5, 6]])"
      ]
     },
     "execution_count": 3,
     "metadata": {},
     "output_type": "execute_result"
    }
   ],
   "source": [
    "np.r_[a,b]#数组的并联"
   ]
  },
  {
   "cell_type": "code",
   "execution_count": 5,
   "metadata": {},
   "outputs": [
    {
     "data": {
      "text/plain": [
       "array([[-3.84893678, -1.25503439],\n       [-3.32430934, -3.09338055],\n       [-1.69003913, -3.55976302],\n       [-4.71640784, -4.73041778],\n       [-2.49536214, -4.03577218],\n       [-3.62278979, -3.05603954],\n       [-4.18167739, -3.2409168 ],\n       [-2.97269954, -3.65011654],\n       [-2.48763586, -3.83162836],\n       [-5.63794895, -4.9255966 ],\n       [-2.40979931, -2.93923439],\n       [-3.49960987, -1.76315946],\n       [-2.50092795, -3.01572465],\n       [-3.0412106 , -4.24047307],\n       [-3.53598605, -3.15263743],\n       [-2.95154036, -3.41157881],\n       [-2.04091631, -2.32623789],\n       [-1.01705826, -3.12078397],\n       [-2.74201429, -2.73610001],\n       [-2.2594417 , -3.41139726]])"
      ]
     },
     "execution_count": 5,
     "metadata": {},
     "output_type": "execute_result"
    }
   ],
   "source": [
    "dot1=np.random.randn(20,2)+[-3,-3]\n",
    "dot1 #随机数组"
   ]
  },
  {
   "cell_type": "code",
   "execution_count": 6,
   "metadata": {},
   "outputs": [
    {
     "data": {
      "text/plain": [
       "array([[ 1.29987268,  2.58440478],\n       [ 1.43824599,  2.50638964],\n       [ 1.95206887,  0.92527118],\n       [ 1.7232619 ,  0.83187773],\n       [ 3.01890438,  3.11044349],\n       [ 3.19515781,  2.32678122],\n       [ 0.30210418,  4.43559202],\n       [ 1.47220076,  2.18222214],\n       [ 1.11238538,  2.0279297 ],\n       [ 1.84111953,  3.75775539],\n       [ 1.18587559,  4.43086083],\n       [ 2.05544886,  3.14413379],\n       [ 2.01654195,  3.6114169 ],\n       [ 1.97422962,  2.71673862],\n       [ 2.69389965,  3.26738213],\n       [ 2.45547431,  4.02287401],\n       [ 1.73994204,  2.12645821],\n       [ 2.80688151,  2.17948383],\n       [ 0.8721327 ,  4.3998875 ],\n       [ 3.551842  ,  2.9487386 ]])"
      ]
     },
     "execution_count": 6,
     "metadata": {},
     "output_type": "execute_result"
    }
   ],
   "source": [
    "dot2=np.random.randn(20,2)+[2,3]\n",
    "dot2 #随机数组"
   ]
  },
  {
   "cell_type": "code",
   "execution_count": 8,
   "metadata": {},
   "outputs": [
    {
     "data": {
      "text/plain": [
       "array([[-3.84893678, -1.25503439],\n       [-3.32430934, -3.09338055],\n       [-1.69003913, -3.55976302],\n       [-4.71640784, -4.73041778],\n       [-2.49536214, -4.03577218],\n       [-3.62278979, -3.05603954],\n       [-4.18167739, -3.2409168 ],\n       [-2.97269954, -3.65011654],\n       [-2.48763586, -3.83162836],\n       [-5.63794895, -4.9255966 ],\n       [-2.40979931, -2.93923439],\n       [-3.49960987, -1.76315946],\n       [-2.50092795, -3.01572465],\n       [-3.0412106 , -4.24047307],\n       [-3.53598605, -3.15263743],\n       [-2.95154036, -3.41157881],\n       [-2.04091631, -2.32623789],\n       [-1.01705826, -3.12078397],\n       [-2.74201429, -2.73610001],\n       [-2.2594417 , -3.41139726],\n       [ 1.29987268,  2.58440478],\n       [ 1.43824599,  2.50638964],\n       [ 1.95206887,  0.92527118],\n       [ 1.7232619 ,  0.83187773],\n       [ 3.01890438,  3.11044349],\n       [ 3.19515781,  2.32678122],\n       [ 0.30210418,  4.43559202],\n       [ 1.47220076,  2.18222214],\n       [ 1.11238538,  2.0279297 ],\n       [ 1.84111953,  3.75775539],\n       [ 1.18587559,  4.43086083],\n       [ 2.05544886,  3.14413379],\n       [ 2.01654195,  3.6114169 ],\n       [ 1.97422962,  2.71673862],\n       [ 2.69389965,  3.26738213],\n       [ 2.45547431,  4.02287401],\n       [ 1.73994204,  2.12645821],\n       [ 2.80688151,  2.17948383],\n       [ 0.8721327 ,  4.3998875 ],\n       [ 3.551842  ,  2.9487386 ]])"
      ]
     },
     "execution_count": 8,
     "metadata": {},
     "output_type": "execute_result"
    }
   ],
   "source": [
    "x_train=np.r_[dot1,dot2]\n",
    "x_train"
   ]
  },
  {
   "cell_type": "code",
   "execution_count": 10,
   "metadata": {},
   "outputs": [
    {
     "data": {
      "text/plain": [
       "(40, 2)"
      ]
     },
     "execution_count": 10,
     "metadata": {},
     "output_type": "execute_result"
    }
   ],
   "source": [
    "x_train.shape"
   ]
  },
  {
   "cell_type": "code",
   "execution_count": 14,
   "metadata": {},
   "outputs": [
    {
     "data": {
      "text/plain": [
       "array([ 0.,  0.,  0.,  0.,  0.,  0.,  0.,  0.,  0.,  0.,  0.,  0.,  0.,\n        0.,  0.,  0.,  0.,  0.,  0.,  0.,  1.,  1.,  1.,  1.,  1.,  1.,\n        1.,  1.,  1.,  1.,  1.,  1.,  1.,  1.,  1.,  1.,  1.,  1.,  1.,  1.])"
      ]
     },
     "execution_count": 14,
     "metadata": {},
     "output_type": "execute_result"
    }
   ],
   "source": [
    "y_train=np.r_[np.zeros(20),np.ones(20)]\n",
    "y_train.ravel()"
   ]
  },
  {
   "cell_type": "code",
   "execution_count": 15,
   "metadata": {},
   "outputs": [
    {
     "data": {
      "text/plain": [
       "<matplotlib.collections.PathCollection at 0x414afd00b8>"
      ]
     },
     "execution_count": 15,
     "metadata": {},
     "output_type": "execute_result"
    },
    {
     "data": {
      "image/png": "[encoded data removed]",
      "text/plain": [
       "<matplotlib.figure.Figure at 0x414ab021d0>"
      ]
     },
     "metadata": {},
     "output_type": "display_data"
    }
   ],
   "source": [
    "plt.scatter(x_train[:,0],x_train[:,1],c=y_train)"
   ]
  },
  {
   "cell_type": "code",
   "execution_count": 16,
   "metadata": {},
   "outputs": [
    {
     "data": {
      "text/plain": [
       "SVC(C=1.0, cache_size=200, class_weight=None, coef0=0.0,\n  decision_function_shape='ovr', degree=3, gamma='auto', kernel='linear',\n  max_iter=-1, probability=False, random_state=None, shrinking=True,\n  tol=0.001, verbose=False)"
      ]
     },
     "execution_count": 16,
     "metadata": {},
     "output_type": "execute_result"
    }
   ],
   "source": [
    "svc=SVC(kernel=\"linear\")\n",
    "svc.fit(x_train,y_train)"
   ]
  },
  {
   "cell_type": "code",
   "execution_count": 17,
   "metadata": {},
   "outputs": [
    {
     "data": {
      "text/plain": [
       "array([[ 0.25518312,  0.32907359]])"
      ]
     },
     "execution_count": 17,
     "metadata": {},
     "output_type": "execute_result"
    }
   ],
   "source": [
    "coef_=svc.coef_\n",
    "coef_"
   ]
  },
  {
   "cell_type": "code",
   "execution_count": 18,
   "metadata": {},
   "outputs": [
    {
     "data": {
      "text/plain": [
       "0.77545913421759205"
      ]
     },
     "execution_count": 18,
     "metadata": {},
     "output_type": "execute_result"
    }
   ],
   "source": [
    "coef_[0,0]/coef_[0,1]"
   ]
  },
  {
   "cell_type": "code",
   "execution_count": 19,
   "metadata": {},
   "outputs": [
    {
     "data": {
      "text/plain": [
       "array([ 0.2864394])"
      ]
     },
     "execution_count": 19,
     "metadata": {},
     "output_type": "execute_result"
    }
   ],
   "source": [
    "intercept_=svc.intercept_\n",
    "intercept_"
   ]
  },
  {
   "cell_type": "code",
   "execution_count": 23,
   "metadata": {},
   "outputs": [
    {
     "data": {
      "text/plain": [
       "[<matplotlib.lines.Line2D at 0x414ad30710>]"
      ]
     },
     "execution_count": 23,
     "metadata": {},
     "output_type": "execute_result"
    },
    {
     "data": {
      "image/png": "[encoded data removed]",
      "text/plain": [
       "<matplotlib.figure.Figure at 0x414acb0048>"
      ]
     },
     "metadata": {},
     "output_type": "display_data"
    }
   ],
   "source": [
    "plt.scatter(x_train[:,0],x_train[:,1],c=y_train)\n",
    "x=np.arange(x_train[:,0].min(),x_train[:,0].max(),0.1)\n",
    "a=-coef_[0,0]/coef_[0,1] #系数\n",
    "b=-svc.intercept_[0] / svc.coef_[0,0] #截距\n",
    "plt.plot(x, a*x+b   ) #线性回归\n",
    "\n",
    "\n"
   ]
  },
  {
   "cell_type": "code",
   "execution_count": 24,
   "metadata": {},
   "outputs": [
    {
     "data": {
      "text/plain": [
       "array([[-2.04091631, -2.32623789],\n       [-1.01705826, -3.12078397],\n       [ 1.7232619 ,  0.83187773]])"
      ]
     },
     "execution_count": 24,
     "metadata": {},
     "output_type": "execute_result"
    }
   ],
   "source": [
    "svc.support_vectors_   ##获取支持向量，数据"
   ]
  },
  {
   "cell_type": "code",
   "execution_count": 27,
   "metadata": {},
   "outputs": [
    {
     "data": {
      "text/plain": [
       "<matplotlib.collections.PathCollection at 0x415f217a20>"
      ]
     },
     "execution_count": 27,
     "metadata": {},
     "output_type": "execute_result"
    },
    {
     "data": {
      "image/png": "[encoded data removed]",
      "text/plain": [
       "<matplotlib.figure.Figure at 0x414ae6e668>"
      ]
     },
     "metadata": {},
     "output_type": "display_data"
    }
   ],
   "source": [
    "plt.scatter(x_train[:,0],x_train[:,1],c=y_train)\n",
    "plt.plot(x, a*x+b   ) #线性回归\n",
    "plt.scatter(svc.support_vectors_[:,0],\n",
    "            svc.support_vectors_[:,1],\n",
    "            c=\"red\",\n",
    "            alpha=1)"
   ]
  },
  {
   "cell_type": "code",
   "execution_count": 29,
   "metadata": {},
   "outputs": [],
   "source": [
    "sv_=svc.support_vectors_\n",
    "upper_dot=sv_[0]\n",
    "upper_b=upper_dot[1]-a*upper_dot[0]  #根据ax+b,计算上界\n",
    "down_dot=sv_[-1]\n",
    "down_b=down_dot[1]-a*down_dot[0] #根据ax+b,计算下界"
   ]
  },
  {
   "cell_type": "code",
   "execution_count": 30,
   "metadata": {},
   "outputs": [
    {
     "data": {
      "text/plain": [
       "[<matplotlib.lines.Line2D at 0x415f2cf9e8>]"
      ]
     },
     "execution_count": 30,
     "metadata": {},
     "output_type": "execute_result"
    },
    {
     "data": {
      "image/png": "[encoded data removed]",
      "text/plain": [
       "<matplotlib.figure.Figure at 0x414ace96d8>"
      ]
     },
     "metadata": {},
     "output_type": "display_data"
    }
   ],
   "source": [
    "plt.scatter(x_train[:,0],x_train[:,1],c=y_train)\n",
    "plt.plot(x, a*x+b   ) #线性回归\n",
    "plt.scatter(svc.support_vectors_[:,0],\n",
    "            svc.support_vectors_[:,1],\n",
    "            c=\"red\",\n",
    "            alpha=1)\n",
    "\n",
    "plt.plot(x,a*x+upper_b,c=\"r\")\n",
    "plt.plot(x,a*x+down_b,c=\"g\")"
   ]
  },
  {
   "cell_type": "code",
   "execution_count": null,
   "metadata": {},
   "outputs": [],
   "source": []
  }
 ],
 "metadata": {
  "kernelspec": {
   "display_name": "Python 2",
   "language": "python",
   "name": "python2"
  },
  "language_info": {
   "codemirror_mode": {
    "name": "ipython",
    "version": 2
   },
   "file_extension": ".py",
   "mimetype": "text/x-python",
   "name": "python",
   "nbconvert_exporter": "python",
   "pygments_lexer": "ipython2",
   "version": "2.7.6"
  }
 },
 "nbformat": 4,
 "nbformat_minor": 0
}
