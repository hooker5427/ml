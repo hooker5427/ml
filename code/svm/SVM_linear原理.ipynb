{
 "cells": [
  {
   "cell_type": "code",
   "execution_count": 2,
   "metadata": {},
   "outputs": [],
   "source": [
    "import numpy  as np\n",
    "from  sklearn.svm import  SVC #分类\n",
    "import matplotlib.pyplot as plt\n",
    "%matplotlib inline"
   ]
  },
  {
   "cell_type": "code",
   "execution_count": 9,
   "metadata": {},
   "outputs": [
    {
     "data": {
      "text/plain": [
       "array([[1, 2, 3, 4, 5, 6]])"
      ]
     },
     "execution_count": 9,
     "metadata": {},
     "output_type": "execute_result"
    }
   ],
   "source": [
    "a=[[1,2,3]]\n",
    "b=[[4,5,6]]\n",
    "# print ( np.concatenate ([a ,b ] ,  axis = 1 ) )\n",
    "# print ( np.c_[a,b] ) \n",
    "np.c_[a,b] #数组的串联"
   ]
  },
  {
   "cell_type": "code",
   "execution_count": 10,
   "metadata": {},
   "outputs": [
    {
     "name": "stdout",
     "output_type": "stream",
     "text": [
      "[[1 2 3]\n",
      " [4 5 6]]\n"
     ]
    },
    {
     "data": {
      "text/plain": [
       "array([[1, 2, 3],\n",
       "       [4, 5, 6]])"
      ]
     },
     "execution_count": 10,
     "metadata": {},
     "output_type": "execute_result"
    }
   ],
   "source": [
    "print ( np.concatenate ([a ,b ] ,  axis = 0 ) )\n",
    "np.r_[a,b]#数组的并联"
   ]
  },
  {
   "cell_type": "code",
   "execution_count": 11,
   "metadata": {},
   "outputs": [
    {
     "data": {
      "text/plain": [
       "array([[-4.58274807, -2.32168945],\n",
       "       [-2.97425016, -3.66466309],\n",
       "       [-2.98875744, -2.52912821],\n",
       "       [-3.03089065, -3.47566657],\n",
       "       [-2.34673876, -1.46198499],\n",
       "       [-3.17388134, -3.73320643],\n",
       "       [-2.94065192, -3.73368798],\n",
       "       [-4.20783382, -2.49464632],\n",
       "       [-4.21837602, -2.95989619],\n",
       "       [-3.3350152 , -3.32986304],\n",
       "       [-4.26687722, -2.95419629],\n",
       "       [-4.51862594, -2.45208305],\n",
       "       [-4.45177641, -3.68952781],\n",
       "       [-2.67184528, -2.72874104],\n",
       "       [-2.87386122, -2.32747058],\n",
       "       [-3.11362674, -2.51660614],\n",
       "       [-2.92047615, -3.2677137 ],\n",
       "       [-3.19732897, -3.68409489],\n",
       "       [-5.79793629, -3.0436066 ],\n",
       "       [-3.3048712 , -1.41088781]])"
      ]
     },
     "execution_count": 11,
     "metadata": {},
     "output_type": "execute_result"
    }
   ],
   "source": [
    "dot1=np.random.randn(20,2)+[-3,-3]\n",
    "dot1 #随机数组"
   ]
  },
  {
   "cell_type": "code",
   "execution_count": 12,
   "metadata": {},
   "outputs": [
    {
     "data": {
      "text/plain": [
       "array([[1.2889989 , 2.53582724],\n",
       "       [1.37421425, 3.16537535],\n",
       "       [1.18615925, 0.73789649],\n",
       "       [2.51333898, 1.50006565],\n",
       "       [2.85354754, 1.52901749],\n",
       "       [1.28156565, 1.59156441],\n",
       "       [2.44997505, 4.86360828],\n",
       "       [3.25903326, 2.35309618],\n",
       "       [1.81247621, 4.28075507],\n",
       "       [2.23654541, 2.20064731],\n",
       "       [2.45211163, 4.08291452],\n",
       "       [1.10471381, 2.93169159],\n",
       "       [1.80269743, 5.09182964],\n",
       "       [2.75700431, 3.17399969],\n",
       "       [0.77232748, 1.89303377],\n",
       "       [2.92900267, 2.98433948],\n",
       "       [1.37272338, 3.96284639],\n",
       "       [2.21753276, 1.44434502],\n",
       "       [0.90012264, 2.69220525],\n",
       "       [1.7243993 , 4.93434932]])"
      ]
     },
     "execution_count": 12,
     "metadata": {},
     "output_type": "execute_result"
    }
   ],
   "source": [
    "dot2=np.random.randn(20,2)+[2,3]\n",
    "dot2 #随机数组"
   ]
  },
  {
   "cell_type": "code",
   "execution_count": 13,
   "metadata": {},
   "outputs": [
    {
     "data": {
      "text/plain": [
       "array([[-4.58274807, -2.32168945],\n",
       "       [-2.97425016, -3.66466309],\n",
       "       [-2.98875744, -2.52912821],\n",
       "       [-3.03089065, -3.47566657],\n",
       "       [-2.34673876, -1.46198499],\n",
       "       [-3.17388134, -3.73320643],\n",
       "       [-2.94065192, -3.73368798],\n",
       "       [-4.20783382, -2.49464632],\n",
       "       [-4.21837602, -2.95989619],\n",
       "       [-3.3350152 , -3.32986304],\n",
       "       [-4.26687722, -2.95419629],\n",
       "       [-4.51862594, -2.45208305],\n",
       "       [-4.45177641, -3.68952781],\n",
       "       [-2.67184528, -2.72874104],\n",
       "       [-2.87386122, -2.32747058],\n",
       "       [-3.11362674, -2.51660614],\n",
       "       [-2.92047615, -3.2677137 ],\n",
       "       [-3.19732897, -3.68409489],\n",
       "       [-5.79793629, -3.0436066 ],\n",
       "       [-3.3048712 , -1.41088781],\n",
       "       [ 1.2889989 ,  2.53582724],\n",
       "       [ 1.37421425,  3.16537535],\n",
       "       [ 1.18615925,  0.73789649],\n",
       "       [ 2.51333898,  1.50006565],\n",
       "       [ 2.85354754,  1.52901749],\n",
       "       [ 1.28156565,  1.59156441],\n",
       "       [ 2.44997505,  4.86360828],\n",
       "       [ 3.25903326,  2.35309618],\n",
       "       [ 1.81247621,  4.28075507],\n",
       "       [ 2.23654541,  2.20064731],\n",
       "       [ 2.45211163,  4.08291452],\n",
       "       [ 1.10471381,  2.93169159],\n",
       "       [ 1.80269743,  5.09182964],\n",
       "       [ 2.75700431,  3.17399969],\n",
       "       [ 0.77232748,  1.89303377],\n",
       "       [ 2.92900267,  2.98433948],\n",
       "       [ 1.37272338,  3.96284639],\n",
       "       [ 2.21753276,  1.44434502],\n",
       "       [ 0.90012264,  2.69220525],\n",
       "       [ 1.7243993 ,  4.93434932]])"
      ]
     },
     "execution_count": 13,
     "metadata": {},
     "output_type": "execute_result"
    }
   ],
   "source": [
    "x_train=np.r_[dot1,dot2]\n",
    "x_train"
   ]
  },
  {
   "cell_type": "code",
   "execution_count": 14,
   "metadata": {},
   "outputs": [
    {
     "data": {
      "text/plain": [
       "(40, 2)"
      ]
     },
     "execution_count": 14,
     "metadata": {},
     "output_type": "execute_result"
    }
   ],
   "source": [
    "x_train.shape"
   ]
  },
  {
   "cell_type": "code",
   "execution_count": 15,
   "metadata": {},
   "outputs": [
    {
     "data": {
      "text/plain": [
       "array([0., 0., 0., 0., 0., 0., 0., 0., 0., 0., 0., 0., 0., 0., 0., 0., 0.,\n",
       "       0., 0., 0., 1., 1., 1., 1., 1., 1., 1., 1., 1., 1., 1., 1., 1., 1.,\n",
       "       1., 1., 1., 1., 1., 1.])"
      ]
     },
     "execution_count": 15,
     "metadata": {},
     "output_type": "execute_result"
    }
   ],
   "source": [
    "y_train=np.r_[np.zeros(20),np.ones(20)]\n",
    "y_train.ravel()\n"
   ]
  },
  {
   "cell_type": "code",
   "execution_count": 18,
   "metadata": {},
   "outputs": [
    {
     "data": {
      "text/plain": [
       "<matplotlib.collections.PathCollection at 0x1e853c6d860>"
      ]
     },
     "execution_count": 18,
     "metadata": {},
     "output_type": "execute_result"
    },
    {
     "data": {
      "image/png": "[encoded data removed]",
      "text/plain": [
       "<Figure size 432x288 with 1 Axes>"
      ]
     },
     "metadata": {
      "needs_background": "light"
     },
     "output_type": "display_data"
    }
   ],
   "source": [
    "plt.scatter(x_train[:,0],x_train[:,1],c=y_train)"
   ]
  },
  {
   "cell_type": "code",
   "execution_count": 20,
   "metadata": {},
   "outputs": [
    {
     "data": {
      "text/plain": [
       "SVC(C=1.0, cache_size=200, class_weight=None, coef0=0.0,\n",
       "  decision_function_shape='ovr', degree=3, gamma='auto_deprecated',\n",
       "  kernel='linear', max_iter=-1, probability=False, random_state=None,\n",
       "  shrinking=True, tol=0.001, verbose=False)"
      ]
     },
     "execution_count": 20,
     "metadata": {},
     "output_type": "execute_result"
    }
   ],
   "source": [
    "svc=SVC(kernel=\"linear\") # 线性内核\n",
    "svc.fit(x_train,y_train)"
   ]
  },
  {
   "cell_type": "code",
   "execution_count": 21,
   "metadata": {},
   "outputs": [
    {
     "data": {
      "text/plain": [
       "array([[0.40793594, 0.25401546]])"
      ]
     },
     "execution_count": 21,
     "metadata": {},
     "output_type": "execute_result"
    }
   ],
   "source": [
    "coef_=svc.coef_\n",
    "coef_"
   ]
  },
  {
   "cell_type": "code",
   "execution_count": 22,
   "metadata": {},
   "outputs": [
    {
     "data": {
      "text/plain": [
       "1.6059492494441394"
      ]
     },
     "execution_count": 22,
     "metadata": {},
     "output_type": "execute_result"
    }
   ],
   "source": [
    "coef_[0,0]/coef_[0,1]"
   ]
  },
  {
   "cell_type": "code",
   "execution_count": 23,
   "metadata": {},
   "outputs": [
    {
     "data": {
      "text/plain": [
       "array([0.32868587])"
      ]
     },
     "execution_count": 23,
     "metadata": {},
     "output_type": "execute_result"
    }
   ],
   "source": [
    "intercept_=svc.intercept_\n",
    "intercept_"
   ]
  },
  {
   "cell_type": "code",
   "execution_count": 24,
   "metadata": {},
   "outputs": [
    {
     "data": {
      "text/plain": [
       "[<matplotlib.lines.Line2D at 0x1e852b93be0>]"
      ]
     },
     "execution_count": 24,
     "metadata": {},
     "output_type": "execute_result"
    },
    {
     "data": {
      "image/png": "[encoded data removed]",
      "text/plain": [
       "<Figure size 432x288 with 1 Axes>"
      ]
     },
     "metadata": {
      "needs_background": "light"
     },
     "output_type": "display_data"
    }
   ],
   "source": [
    "plt.scatter(x_train[:,0],x_train[:,1],c=y_train)\n",
    "x=np.arange(x_train[:,0].min(),x_train[:,0].max(),0.1)\n",
    "a=-coef_[0,0]/coef_[0,1] #系数\n",
    "b=-svc.intercept_[0] / svc.coef_[0,0] #截距\n",
    "plt.plot(x, a*x+b   ) #线性回归\n",
    "\n",
    "\n"
   ]
  },
  {
   "cell_type": "code",
   "execution_count": 25,
   "metadata": {},
   "outputs": [
    {
     "data": {
      "text/plain": [
       "array([[-2.34673876, -1.46198499],\n",
       "       [ 1.18615925,  0.73789649]])"
      ]
     },
     "execution_count": 25,
     "metadata": {},
     "output_type": "execute_result"
    }
   ],
   "source": [
    "svc.support_vectors_   ##获取支持向量，数据"
   ]
  },
  {
   "cell_type": "code",
   "execution_count": 26,
   "metadata": {},
   "outputs": [
    {
     "data": {
      "text/plain": [
       "<matplotlib.collections.PathCollection at 0x1e8506d1128>"
      ]
     },
     "execution_count": 26,
     "metadata": {},
     "output_type": "execute_result"
    },
    {
     "data": {
      "image/png": "[encoded data removed]",
      "text/plain": [
       "<Figure size 432x288 with 1 Axes>"
      ]
     },
     "metadata": {
      "needs_background": "light"
     },
     "output_type": "display_data"
    }
   ],
   "source": [
    "plt.scatter(x_train[:,0],x_train[:,1],c=y_train)\n",
    "plt.plot(x, a*x+b   ) #线性回归\n",
    "plt.scatter(svc.support_vectors_[:,0],\n",
    "            svc.support_vectors_[:,1],\n",
    "            c=\"red\",\n",
    "            alpha=1)"
   ]
  },
  {
   "cell_type": "code",
   "execution_count": 27,
   "metadata": {},
   "outputs": [],
   "source": [
    "sv_=svc.support_vectors_\n",
    "upper_dot=sv_[0]\n",
    "upper_b=upper_dot[1]-a*upper_dot[0]  #根据ax+b,计算上界\n",
    "down_dot=sv_[-1]\n",
    "down_b=down_dot[1]-a*down_dot[0] #根据ax+b,计算下界"
   ]
  },
  {
   "cell_type": "code",
   "execution_count": 28,
   "metadata": {},
   "outputs": [
    {
     "data": {
      "text/plain": [
       "[<matplotlib.lines.Line2D at 0x1e8506c27f0>]"
      ]
     },
     "execution_count": 28,
     "metadata": {},
     "output_type": "execute_result"
    },
    {
     "data": {
      "image/png": "[encoded data removed]",
      "text/plain": [
       "<Figure size 432x288 with 1 Axes>"
      ]
     },
     "metadata": {
      "needs_background": "light"
     },
     "output_type": "display_data"
    }
   ],
   "source": [
    "plt.scatter(x_train[:,0],x_train[:,1],c=y_train)\n",
    "plt.plot(x, a*x+b   ) #线性回归\n",
    "plt.scatter(svc.support_vectors_[:,0],\n",
    "            svc.support_vectors_[:,1],\n",
    "            c=\"red\",\n",
    "            alpha=1)\n",
    "\n",
    "plt.plot(x,a*x+upper_b,c=\"r\")\n",
    "plt.plot(x,a*x+down_b,c=\"g\")"
   ]
  }
 ],
 "metadata": {
  "kernelspec": {
   "display_name": "Python 3",
   "language": "python",
   "name": "python3"
  },
  "language_info": {
   "codemirror_mode": {
    "name": "ipython",
    "version": 3
   },
   "file_extension": ".py",
   "mimetype": "text/x-python",
   "name": "python",
   "nbconvert_exporter": "python",
   "pygments_lexer": "ipython3",
   "version": "3.6.7"
  }
 },
 "nbformat": 4,
 "nbformat_minor": 1
}